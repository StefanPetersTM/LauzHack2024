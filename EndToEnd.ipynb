{
 "cells": [
  {
   "metadata": {
    "ExecuteTime": {
     "end_time": "2024-11-30T16:05:59.330566Z",
     "start_time": "2024-11-30T16:05:59.326904Z"
    }
   },
   "cell_type": "code",
   "source": [
    "from prophet import Prophet\n",
    "import pandas as pd\n",
    "import seaborn as sns\n",
    "import matplotlib.pyplot as plt\n"
   ],
   "id": "58042af0fdf90f4d",
   "outputs": [],
   "execution_count": 10
  },
  {
   "metadata": {
    "collapsed": true,
    "ExecuteTime": {
     "end_time": "2024-11-30T15:45:08.986164Z",
     "start_time": "2024-11-30T15:45:08.897617Z"
    }
   },
   "cell_type": "code",
   "source": [
    "### Data processing\n",
    "\n",
    "data = pd.read_excel('/home/stefan/PycharmProjects/LauzHack2024/BRISTOR_Zegoland.xlsx')"
   ],
   "id": "initial_id",
   "outputs": [],
   "execution_count": 2
  },
  {
   "metadata": {
    "ExecuteTime": {
     "end_time": "2024-11-30T15:45:56.405252Z",
     "start_time": "2024-11-30T15:45:56.395574Z"
    }
   },
   "cell_type": "code",
   "source": [
    "### Mocking the data\n",
    "\n",
    "# Mock dataset creation based on the previous description\n",
    "# Assuming monthly data from August 2020 to October 2024 for \"Ex-factory volumes\"\n",
    "date_range = pd.date_range(start=\"2020-08-01\", end=\"2024-10-31\", freq=\"M\")\n",
    "mock_data = {\n",
    "    'ds': date_range,\n",
    "    'y': [abs(100 + (x % 12) * 10 + (x % 5) * 5 - (x % 3) * 2) for x in range(len(date_range))],  # Mock 'Ex-factory volumes'\n",
    "    'demand_volumes': [50 + (x % 12) * 2 for x in range(len(date_range))],  # Mock 'Demand volumes'\n",
    "    'activity': [10 + (x % 6) * 3 for x in range(len(date_range))],  # Mock 'Activity'\n",
    "    'share_of_voice': [0.3 + (x % 4) * 0.05 for x in range(len(date_range))],\n",
    "    'competitor_impact': [0] * len(date_range)# Mock 'Share of Voice'\n",
    "}\n",
    "\n",
    "# Define competitor impact starting 6 months from the last date\n",
    "event_start = pd.to_datetime(\"2025-04-01\")\n",
    "for i, date in enumerate(date_range):\n",
    "    if date >= event_start:\n",
    "        data['competitor_impact'][i] = -0.1  # Assuming a 10% drop in sales\n",
    "\n",
    "\n",
    "# Convert to DataFrame\n",
    "df = pd.DataFrame(mock_data)"
   ],
   "id": "e19528f2b554c7a0",
   "outputs": [
    {
     "name": "stderr",
     "output_type": "stream",
     "text": [
      "/tmp/ipykernel_236452/1923141652.py:5: FutureWarning: 'M' is deprecated and will be removed in a future version, please use 'ME' instead.\n",
      "  date_range = pd.date_range(start=\"2020-08-01\", end=\"2024-10-31\", freq=\"M\")\n"
     ]
    }
   ],
   "execution_count": 3
  },
  {
   "metadata": {
    "ExecuteTime": {
     "end_time": "2024-11-30T15:46:19.254528Z",
     "start_time": "2024-11-30T15:46:19.042434Z"
    }
   },
   "cell_type": "code",
   "source": [
    "### Initializing the Prophet model\n",
    "model = Prophet() # TODO tweak parameters\n",
    "model.add_regressor('demand_volumes')\n",
    "model.add_regressor('activity')\n",
    "model.add_regressor('share_of_voice')\n",
    "model.add_regressor('competitor_impact') # If a competitor releases a new product\n",
    "\n",
    "\n",
    "# Fit the model\n",
    "model.fit(df)\n",
    "\n",
    "# Create future DataFrame\n",
    "future = model.make_future_dataframe(periods=12, freq=\"M\")  # Forecast for next 12 months\n",
    "future['demand_volumes'] = [60 + (x % 12) * 2 for x in range(len(future))]  # Future 'Demand volumes'\n",
    "future['activity'] = [15 + (x % 6) * 3 for x in range(len(future))]  # Future 'Activity'\n",
    "future['share_of_voice'] = [0.4 + (x % 4) * 0.05 for x in range(len(future))]  # Future 'Share of Voice'\n",
    "\n",
    "# Add the impact of the competitor in the future\n",
    "for i, date in enumerate(future['ds']):\n",
    "    if date >= event_start:\n",
    "        future.loc[i, 'competitor_impact'] = -0.1  # Future impact\n",
    "    else:\n",
    "        future.loc[i, 'competitor_impact'] = 0\n",
    "        \n",
    "# Adjust SoV for competitor impact\n",
    "for i, date in enumerate(future['ds']): # TODO fix the share of voice\n",
    "    if date >= event_start:\n",
    "        future.loc[i, 'share_of_voice'] *= 0.9  # Reduce SoV by 10%\n",
    "\n",
    "# Make predictions\n",
    "forecast = model.predict(future)\n",
    "\n",
    "# Display forecasted results\n",
    "forecast[['ds', 'yhat', 'yhat_lower', 'yhat_upper']].tail(12)  # Last 12 rows for predictions\n"
   ],
   "id": "a43c42018d3e3e08",
   "outputs": [
    {
     "name": "stderr",
     "output_type": "stream",
     "text": [
      "16:46:19 - cmdstanpy - INFO - Chain [1] start processing\n",
      "16:46:19 - cmdstanpy - INFO - Chain [1] done processing\n",
      "/home/stefan/miniconda3/envs/LauzHack2024/lib/python3.11/site-packages/prophet/forecaster.py:1854: FutureWarning: 'M' is deprecated and will be removed in a future version, please use 'ME' instead.\n",
      "  dates = pd.date_range(\n"
     ]
    },
    {
     "data": {
      "text/plain": [
       "           ds        yhat  yhat_lower  yhat_upper\n",
       "51 2024-11-30  432.328356  424.977492  440.036324\n",
       "52 2024-12-31  450.185192  442.245421  458.748532\n",
       "53 2025-01-31  445.921258  438.140089  453.145418\n",
       "54 2025-02-28  463.110533  455.449683  470.879826\n",
       "55 2025-03-31  476.023955  467.683013  484.099814\n",
       "56 2025-04-30  382.053936  374.681208  389.446377\n",
       "57 2025-05-31  378.236463  370.217615  386.209613\n",
       "58 2025-06-30  371.039533  363.311454  378.610184\n",
       "59 2025-07-31  368.718953  360.641752  376.185567\n",
       "60 2025-08-31  302.702464  295.237749  310.565372\n",
       "61 2025-09-30  298.422095  290.323219  306.225273\n",
       "62 2025-10-31  292.741080  285.255995  300.358010"
      ],
      "text/html": [
       "<div>\n",
       "<style scoped>\n",
       "    .dataframe tbody tr th:only-of-type {\n",
       "        vertical-align: middle;\n",
       "    }\n",
       "\n",
       "    .dataframe tbody tr th {\n",
       "        vertical-align: top;\n",
       "    }\n",
       "\n",
       "    .dataframe thead th {\n",
       "        text-align: right;\n",
       "    }\n",
       "</style>\n",
       "<table border=\"1\" class=\"dataframe\">\n",
       "  <thead>\n",
       "    <tr style=\"text-align: right;\">\n",
       "      <th></th>\n",
       "      <th>ds</th>\n",
       "      <th>yhat</th>\n",
       "      <th>yhat_lower</th>\n",
       "      <th>yhat_upper</th>\n",
       "    </tr>\n",
       "  </thead>\n",
       "  <tbody>\n",
       "    <tr>\n",
       "      <th>51</th>\n",
       "      <td>2024-11-30</td>\n",
       "      <td>432.328356</td>\n",
       "      <td>424.977492</td>\n",
       "      <td>440.036324</td>\n",
       "    </tr>\n",
       "    <tr>\n",
       "      <th>52</th>\n",
       "      <td>2024-12-31</td>\n",
       "      <td>450.185192</td>\n",
       "      <td>442.245421</td>\n",
       "      <td>458.748532</td>\n",
       "    </tr>\n",
       "    <tr>\n",
       "      <th>53</th>\n",
       "      <td>2025-01-31</td>\n",
       "      <td>445.921258</td>\n",
       "      <td>438.140089</td>\n",
       "      <td>453.145418</td>\n",
       "    </tr>\n",
       "    <tr>\n",
       "      <th>54</th>\n",
       "      <td>2025-02-28</td>\n",
       "      <td>463.110533</td>\n",
       "      <td>455.449683</td>\n",
       "      <td>470.879826</td>\n",
       "    </tr>\n",
       "    <tr>\n",
       "      <th>55</th>\n",
       "      <td>2025-03-31</td>\n",
       "      <td>476.023955</td>\n",
       "      <td>467.683013</td>\n",
       "      <td>484.099814</td>\n",
       "    </tr>\n",
       "    <tr>\n",
       "      <th>56</th>\n",
       "      <td>2025-04-30</td>\n",
       "      <td>382.053936</td>\n",
       "      <td>374.681208</td>\n",
       "      <td>389.446377</td>\n",
       "    </tr>\n",
       "    <tr>\n",
       "      <th>57</th>\n",
       "      <td>2025-05-31</td>\n",
       "      <td>378.236463</td>\n",
       "      <td>370.217615</td>\n",
       "      <td>386.209613</td>\n",
       "    </tr>\n",
       "    <tr>\n",
       "      <th>58</th>\n",
       "      <td>2025-06-30</td>\n",
       "      <td>371.039533</td>\n",
       "      <td>363.311454</td>\n",
       "      <td>378.610184</td>\n",
       "    </tr>\n",
       "    <tr>\n",
       "      <th>59</th>\n",
       "      <td>2025-07-31</td>\n",
       "      <td>368.718953</td>\n",
       "      <td>360.641752</td>\n",
       "      <td>376.185567</td>\n",
       "    </tr>\n",
       "    <tr>\n",
       "      <th>60</th>\n",
       "      <td>2025-08-31</td>\n",
       "      <td>302.702464</td>\n",
       "      <td>295.237749</td>\n",
       "      <td>310.565372</td>\n",
       "    </tr>\n",
       "    <tr>\n",
       "      <th>61</th>\n",
       "      <td>2025-09-30</td>\n",
       "      <td>298.422095</td>\n",
       "      <td>290.323219</td>\n",
       "      <td>306.225273</td>\n",
       "    </tr>\n",
       "    <tr>\n",
       "      <th>62</th>\n",
       "      <td>2025-10-31</td>\n",
       "      <td>292.741080</td>\n",
       "      <td>285.255995</td>\n",
       "      <td>300.358010</td>\n",
       "    </tr>\n",
       "  </tbody>\n",
       "</table>\n",
       "</div>"
      ]
     },
     "execution_count": 4,
     "metadata": {},
     "output_type": "execute_result"
    }
   ],
   "execution_count": 4
  },
  {
   "metadata": {
    "ExecuteTime": {
     "end_time": "2024-11-30T16:06:57.278764Z",
     "start_time": "2024-11-30T16:06:57.272553Z"
    }
   },
   "cell_type": "code",
   "source": [
    "### Showing the model coefficients for each regression term \n",
    "\n",
    "# Number of Fourier terms for each seasonality\n",
    "yearly_seasonality_order = 10  # Default if you didn't change `fourier_order`\n",
    "weekly_seasonality_order = 3   # Default weekly seasonality (adjust if custom)\n",
    "\n",
    "# Total seasonal terms\n",
    "seasonal_terms = yearly_seasonality_order + weekly_seasonality_order\n",
    "\n",
    "# Extract external regressor coefficients\n",
    "external_regressor_coefficients = model.params['beta'][:, seasonal_terms:].flatten()  # Remove seasonal terms\n",
    "\n",
    "# Map to the names of regressors\n",
    "#regressor_names = ['adjusted_share_of_voice', 'activity']  # Your defined regressors\n",
    "regressor_names = ['demand_volumes', 'activity', 'share_of_voice', 'competitor_impact', 'adjusted_share_of_voice']\n",
    "relationship_df = pd.DataFrame({\n",
    "    'Regressor': regressor_names,\n",
    "    'Coefficient': external_regressor_coefficients[:len(regressor_names)]\n",
    "})\n",
    "\n",
    "print(relationship_df)\n"
   ],
   "id": "48e9667df4674ded",
   "outputs": [
    {
     "name": "stdout",
     "output_type": "stream",
     "text": [
      "                 Regressor  Coefficient\n",
      "0           demand_volumes    -0.024047\n",
      "1                 activity     0.235947\n",
      "2           share_of_voice     0.116732\n",
      "3        competitor_impact     0.146291\n",
      "4  adjusted_share_of_voice     0.046532\n"
     ]
    }
   ],
   "execution_count": 13
  },
  {
   "metadata": {
    "ExecuteTime": {
     "end_time": "2024-11-30T16:09:40.664734Z",
     "start_time": "2024-11-30T16:09:40.552770Z"
    }
   },
   "cell_type": "code",
   "source": [
    "### CORRELATION MATRIX\n",
    "\n",
    "\n",
    "regressor_names_historic_data = ['demand_volumes', 'activity', 'share_of_voice']\n",
    "# Correlation heatmap\n",
    "correlation_matrix = df[regressor_names_historic_data].corr()\n",
    "sns.heatmap(correlation_matrix, annot=True, cmap='coolwarm')\n",
    "plt.title('Correlation Matrix')\n",
    "plt.show()"
   ],
   "id": "be08b67968d7e0d4",
   "outputs": [
    {
     "data": {
      "text/plain": [
       "<Figure size 640x480 with 2 Axes>"
      ],
      "image/png": "[encoded data removed]"
     },
     "metadata": {},
     "output_type": "display_data"
    }
   ],
   "execution_count": 21
  }
 ],
 "metadata": {
  "kernelspec": {
   "display_name": "Python 3",
   "language": "python",
   "name": "python3"
  },
  "language_info": {
   "codemirror_mode": {
    "name": "ipython",
    "version": 2
   },
   "file_extension": ".py",
   "mimetype": "text/x-python",
   "name": "python",
   "nbconvert_exporter": "python",
   "pygments_lexer": "ipython2",
   "version": "2.7.6"
  }
 },
 "nbformat": 4,
 "nbformat_minor": 5
}
